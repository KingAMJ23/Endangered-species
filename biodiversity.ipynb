{
 "cells": [
  {
   "cell_type": "markdown",
   "metadata": {},
   "source": [
    "### Wstęp\n",
    "Celem tego projektu jest analiza danych dotyczących bioróżnorodności pochodzących z National Parks Service, w szczególności dotyczących różnych gatunków obserwowanych w różnych lokalizacjach parków narodowych.\n",
    "\n",
    "Projekt ten będzie obejmował zakres, analizę, przygotowanie, wykreślenie danych i próbę wyjaśnienia wniosków z analizy.\n",
    "\n",
    "Oto kilka pytań, na które ten projekt starał się odpowiedzieć:\n",
    "- Jaki jest rozkład statusu ochrony gatunków?\n",
    "- Czy pewne rodzaje gatunków są bardziej narażone na niebezpieczeństwo?\n",
    "- Czy różnice między gatunkami i ich statusem ochrony są znaczące?\n",
    "- Które zwierzę jest najbardziej rozpowszechnione i jakie jest ich rozmieszczenie wśród parków?\n",
    "\n",
    "**Źródła Danych:**\n",
    "\n",
    "Zarówno `Observations.csv` jak i `Species_info.csv` zostały dostarczone przez [Codecademy.com.](https://www.codecademy.com)\n",
    "\n",
    "Uwaga: Dane do tego projektu są inspirowane prawdziwymi danymi, ale w większości są fikcyjne."
   ]
  },
  {
   "cell_type": "markdown",
   "metadata": {},
   "source": [
    "### Cel Projektu\n",
    "\n",
    "Ten projekt będzie realizowany z perspektywy analityka bioróżnorodności dla Służby Parków Narodowych. Służba Parków Narodowych chce zapewnić przetrwanie zagrożonych gatunków, aby utrzymać poziom różnorodności biologicznej w swoich parkach. Dlatego głównymi celami jako analityka będzie zrozumienie cech o gatunkach i ich statusie ochrony, a także tych gatunków i ich związku z parkami narodowymi. "
   ]
  },
  {
   "cell_type": "markdown",
   "metadata": {},
   "source": [
    "### Dane\n",
    "Ten projekt posiada dwa zestawy danych. Pierwszy plik csv zawiera informacje o każdym gatunku, a drugi zawiera obserwacje gatunków wraz z lokalizacjami parków. Dane te zostaną wykorzystane do analizy celów projektu."
   ]
  },
  {
   "cell_type": "markdown",
   "metadata": {},
   "source": [
    "### Analiza\n",
    "W tej części zostaną zastosowane statystyki opisowe i techniki wizualizacji danych, aby lepiej zrozumieć dane. Wnioskowanie statystyczne zostanie również wykorzystane do sprawdzenia, czy obserwowane wartości są statystycznie istotne. Niektóre z kluczowych metryk, które zostaną obliczone to:\n",
    "\n",
    "1. Rozkłady\n",
    "1. liczebności\n",
    "1. relacje między gatunkami\n",
    "1. stan ochrony gatunków\n",
    "1. obserwacje gatunków w parkach."
   ]
  },
  {
   "cell_type": "markdown",
   "metadata": {},
   "source": [
    "### Ocena\n",
    "Na koniec nastąpi powrót do celów i sprawdzenie, czy wyniki analizy odpowiadają pytaniom, na które należało odpowiedzieć."
   ]
  },
  {
   "cell_type": "markdown",
   "metadata": {},
   "source": [
    "### Zaimportuj moduły Pythona\n",
    "Najpierw zaimportowano podstawowe moduły, które będą używane w tym projekcie:"
   ]
  },
  {
   "cell_type": "code",
   "execution_count": 3,
   "metadata": {},
   "outputs": [],
   "source": [
    "import pandas as pd\n",
    "import numpy as np\n",
    "from matplotlib import pyplot as plt\n",
    "import seaborn as snŁadowanie danych\n",
    "%matplotlib inline"
   ]
  },
  {
   "cell_type": "markdown",
   "metadata": {},
   "source": [
    "### Ładowanie danych\n",
    "Aby przeanalizować stan ochrony gatunków i ich obserwacje w parkach narodowych, należy załadować zbiory danych do DataFrames. Po załadowaniu do DataFrames dane mogą być eksplorowane i wizualizowane za pomocą Pythona.\n",
    "\n",
    "W kolejnych krokach pliki `Observations.csv` i `Species_info.csv` są wczytywane jako DataFrames nazwane odpowiednio `observations` i `species`. Nowo utworzone DataFrames są przeglądane za pomocą `.head()`, aby sprawdzić ich zawartość."
   ]
  },
  {
   "cell_type": "markdown",
   "metadata": {},
   "source": [
    "#### gatunki\n",
    "Plik `species_info.csv` zawiera informacje o poszczególnych gatunkach występujących w Parkach Narodowych. Kolumny w zbiorze danych obejmują:\n",
    "\n",
    "- **category** - Kategoria taksonomiczna dla każdego gatunku\n",
    "- **scientific_name** - Nazwa naukowa każdego gatunku\n",
    "- **common_names** - nazwy zwyczajowe każdego gatunku\n",
    "- **conservation_status** - stan ochrony gatunku"
   ]
  },
  {
   "cell_type": "code",
   "execution_count": 5,
   "metadata": {},
   "outputs": [
    {
     "data": {
      "text/html": [
       "<div>\n",
       "<style scoped>\n",
       "    .dataframe tbody tr th:only-of-type {\n",
       "        vertical-align: middle;\n",
       "    }\n",
       "\n",
       "    .dataframe tbody tr th {\n",
       "        vertical-align: top;\n",
       "    }\n",
       "\n",
       "    .dataframe thead th {\n",
       "        text-align: right;\n",
       "    }\n",
       "</style>\n",
       "<table border=\"1\" class=\"dataframe\">\n",
       "  <thead>\n",
       "    <tr style=\"text-align: right;\">\n",
       "      <th></th>\n",
       "      <th>category</th>\n",
       "      <th>scientific_name</th>\n",
       "      <th>common_names</th>\n",
       "      <th>conservation_status</th>\n",
       "    </tr>\n",
       "  </thead>\n",
       "  <tbody>\n",
       "    <tr>\n",
       "      <th>0</th>\n",
       "      <td>Mammal</td>\n",
       "      <td>Clethrionomys gapperi gapperi</td>\n",
       "      <td>Gapper's Red-Backed Vole</td>\n",
       "      <td>NaN</td>\n",
       "    </tr>\n",
       "    <tr>\n",
       "      <th>1</th>\n",
       "      <td>Mammal</td>\n",
       "      <td>Bos bison</td>\n",
       "      <td>American Bison, Bison</td>\n",
       "      <td>NaN</td>\n",
       "    </tr>\n",
       "    <tr>\n",
       "      <th>2</th>\n",
       "      <td>Mammal</td>\n",
       "      <td>Bos taurus</td>\n",
       "      <td>Aurochs, Aurochs, Domestic Cattle (Feral), Dom...</td>\n",
       "      <td>NaN</td>\n",
       "    </tr>\n",
       "    <tr>\n",
       "      <th>3</th>\n",
       "      <td>Mammal</td>\n",
       "      <td>Ovis aries</td>\n",
       "      <td>Domestic Sheep, Mouflon, Red Sheep, Sheep (Feral)</td>\n",
       "      <td>NaN</td>\n",
       "    </tr>\n",
       "    <tr>\n",
       "      <th>4</th>\n",
       "      <td>Mammal</td>\n",
       "      <td>Cervus elaphus</td>\n",
       "      <td>Wapiti Or Elk</td>\n",
       "      <td>NaN</td>\n",
       "    </tr>\n",
       "  </tbody>\n",
       "</table>\n",
       "</div>"
      ],
      "text/plain": [
       "  category                scientific_name  \\\n",
       "0   Mammal  Clethrionomys gapperi gapperi   \n",
       "1   Mammal                      Bos bison   \n",
       "2   Mammal                     Bos taurus   \n",
       "3   Mammal                     Ovis aries   \n",
       "4   Mammal                 Cervus elaphus   \n",
       "\n",
       "                                        common_names conservation_status  \n",
       "0                           Gapper's Red-Backed Vole                 NaN  \n",
       "1                              American Bison, Bison                 NaN  \n",
       "2  Aurochs, Aurochs, Domestic Cattle (Feral), Dom...                 NaN  \n",
       "3  Domestic Sheep, Mouflon, Red Sheep, Sheep (Feral)                 NaN  \n",
       "4                                      Wapiti Or Elk                 NaN  "
      ]
     },
     "execution_count": 5,
     "metadata": {},
     "output_type": "execute_result"
    }
   ],
   "source": [
    "species = pd.read_csv('species_info.csv', encoding = 'utf-8')\n",
    "species.head()"
   ]
  },
  {
   "cell_type": "markdown",
   "metadata": {},
   "source": [
    "#### obserwacje\n",
    "Plik `Observations.csv` zawiera informacje z zarejestrowanych obserwacji różnych gatunków na terenie parków narodowych w ciągu ostatnich 7 dni. Zawarte kolumny to:\n",
    "\n",
    "- **scientific_name** - Nazwa naukowa każdego gatunku.\n",
    "- **park_name** - nazwa parku narodowego\n",
    "- **observations** - liczba obserwacji w ciągu ostatnich 7 dni"
   ]
  },
  {
   "cell_type": "code",
   "execution_count": 9,
   "metadata": {},
   "outputs": [
    {
     "data": {
      "text/html": [
       "<div>\n",
       "<style scoped>\n",
       "    .dataframe tbody tr th:only-of-type {\n",
       "        vertical-align: middle;\n",
       "    }\n",
       "\n",
       "    .dataframe tbody tr th {\n",
       "        vertical-align: top;\n",
       "    }\n",
       "\n",
       "    .dataframe thead th {\n",
       "        text-align: right;\n",
       "    }\n",
       "</style>\n",
       "<table border=\"1\" class=\"dataframe\">\n",
       "  <thead>\n",
       "    <tr style=\"text-align: right;\">\n",
       "      <th></th>\n",
       "      <th>scientific_name</th>\n",
       "      <th>park_name</th>\n",
       "      <th>observations</th>\n",
       "    </tr>\n",
       "  </thead>\n",
       "  <tbody>\n",
       "    <tr>\n",
       "      <th>0</th>\n",
       "      <td>Vicia benghalensis</td>\n",
       "      <td>Great Smoky Mountains National Park</td>\n",
       "      <td>68</td>\n",
       "    </tr>\n",
       "    <tr>\n",
       "      <th>1</th>\n",
       "      <td>Neovison vison</td>\n",
       "      <td>Great Smoky Mountains National Park</td>\n",
       "      <td>77</td>\n",
       "    </tr>\n",
       "    <tr>\n",
       "      <th>2</th>\n",
       "      <td>Prunus subcordata</td>\n",
       "      <td>Yosemite National Park</td>\n",
       "      <td>138</td>\n",
       "    </tr>\n",
       "    <tr>\n",
       "      <th>3</th>\n",
       "      <td>Abutilon theophrasti</td>\n",
       "      <td>Bryce National Park</td>\n",
       "      <td>84</td>\n",
       "    </tr>\n",
       "    <tr>\n",
       "      <th>4</th>\n",
       "      <td>Githopsis specularioides</td>\n",
       "      <td>Great Smoky Mountains National Park</td>\n",
       "      <td>85</td>\n",
       "    </tr>\n",
       "  </tbody>\n",
       "</table>\n",
       "</div>"
      ],
      "text/plain": [
       "            scientific_name                            park_name  observations\n",
       "0        Vicia benghalensis  Great Smoky Mountains National Park            68\n",
       "1            Neovison vison  Great Smoky Mountains National Park            77\n",
       "2         Prunus subcordata               Yosemite National Park           138\n",
       "3      Abutilon theophrasti                  Bryce National Park            84\n",
       "4  Githopsis specularioides  Great Smoky Mountains National Park            85"
      ]
     },
     "execution_count": 9,
     "metadata": {},
     "output_type": "execute_result"
    }
   ],
   "source": [
    "observations = pd.read_csv('observations.csv', encoding = 'utf-8')\n",
    "observations.head()"
   ]
  },
  {
   "cell_type": "markdown",
   "metadata": {},
   "source": [
    "### Charakterystyka danych\n",
    "Następnie nastąpi sprawdzenie wymiarów zbiorów danych, dla gatunków jest 5 824 wierszy i 4 kolumny, natomiast obserwacje mają 23 296 wierszy i 3 kolumny."
   ]
  },
  {
   "cell_type": "code",
   "execution_count": 13,
   "metadata": {},
   "outputs": [
    {
     "name": "stdout",
     "output_type": "stream",
     "text": [
      "Obserwacje: (23296, 3)\n",
      "Gatunki: (5824, 4)\n"
     ]
    }
   ],
   "source": [
    "print('Obserwacje: ' + str(observations.shape))\n",
    "print('Gatunki: ' + str(species.shape))"
   ]
  },
  {
   "cell_type": "markdown",
   "metadata": {},
   "source": [
    "### Eksploracja danych\n",
    "Pierwszą rzeczą jest znalezienie liczby odrębnych gatunków w danych. Użyto kolumny `scientific_name`, aby uzyskać 5,541 unikalnych gatunków."
   ]
  },
  {
   "cell_type": "code",
   "execution_count": 15,
   "metadata": {},
   "outputs": [
    {
     "name": "stdout",
     "output_type": "stream",
     "text": [
      "Liczba unikalnych gatunków:  5541\n"
     ]
    }
   ],
   "source": [
    "liczba_gatunkow = species['scientific_name'].nunique()\n",
    "print(\"Liczba unikalnych gatunków: \", liczba_gatunkow)"
   ]
  },
  {
   "cell_type": "markdown",
   "metadata": {},
   "source": [
    "Następnie należy znaleźć liczbę kategorii, które są reprezentowane w danych i jest ich 7, w tym zwierząt i roślin."
   ]
  },
  {
   "cell_type": "code",
   "execution_count": 19,
   "metadata": {},
   "outputs": [
    {
     "name": "stdout",
     "output_type": "stream",
     "text": [
      "Liczba kategorii: 7\n",
      "Kategorie: Mammal, Bird, Reptile, Amphibian, Fish, Vascular Plant, Nonvascular Plant\n"
     ]
    }
   ],
   "source": [
    "print(f\"Liczba kategorii: {species.category.nunique()}\")\n",
    "print(f\"Kategorie: {', '.join(species.category.unique())}\")"
   ]
  },
  {
   "cell_type": "markdown",
   "metadata": {},
   "source": [
    "Tutaj mamy szansę wgłębić się o jeden poziom głębiej i zobaczyć liczbę gatunkow z każdej kategorii. Rośliny naczyniowe jest zdecydowanie najwięcej bo aż 4,470 , przy czym gadów jest najmniej a konkretnie 79."
   ]
  },
  {
   "cell_type": "code",
   "execution_count": 23,
   "metadata": {},
   "outputs": [
    {
     "data": {
      "text/plain": [
       "Vascular Plant       4470\n",
       "Bird                  521\n",
       "Nonvascular Plant     333\n",
       "Mammal                214\n",
       "Fish                  127\n",
       "Amphibian              80\n",
       "Reptile                79\n",
       "Name: category, dtype: int64"
      ]
     },
     "execution_count": 23,
     "metadata": {},
     "output_type": "execute_result"
    }
   ],
   "source": [
    "species['category'].value_counts()"
   ]
  },
  {
   "cell_type": "markdown",
   "metadata": {},
   "source": [
    "Kolejną kolumną do zbadania jest `conservation_status`. Kolumna posiada 4 kategorie, `Species of Concern`, `Endangered`, `Threatened`, `In Recovery` oraz wartości `nan`."
   ]
  },
  {
   "cell_type": "code",
   "execution_count": 26,
   "metadata": {},
   "outputs": [
    {
     "name": "stdout",
     "output_type": "stream",
     "text": [
      "Liczba kategorii: 4\n",
      "Status wyginięcia: [nan 'Species of Concern' 'Endangered' 'Threatened' 'In Recovery']\n"
     ]
    }
   ],
   "source": [
    "print(f\"Liczba kategorii: {species.conservation_status.nunique()}\")\n",
    "print(f\"Status wyginięcia: {(species.conservation_status.unique())}\")"
   ]
  },
  {
   "cell_type": "markdown",
   "metadata": {},
   "source": [
    "Następnie dokonano zliczenia liczby obserwacji w podziale na kategorie w `conservation_status`. Wartości nan jest 5 633, co oznacza, że są to gatunki niezagrożone.  Z drugiej strony, istnieje 161 gatunków wymagających ochrony, 16 zagrożonych, 10 zagrożonych wyginięciem i 4 objęte procesem odzyskiwania.\n",
    "\n",
    "Uwaga: W większości przypadków natrafiając na wartości `nan` należy zachować ostrożność, jednak brak danych w tym miejscu oznacza, że gatunki te nie są objęte żadnym statusem ochronnym."
   ]
  },
  {
   "cell_type": "code",
   "execution_count": 35,
   "metadata": {},
   "outputs": [
    {
     "name": "stdout",
     "output_type": "stream",
     "text": [
      " Liczba wartości Na : 5633\n"
     ]
    },
    {
     "data": {
      "text/plain": [
       "Species of Concern    161\n",
       "Endangered             16\n",
       "Threatened             10\n",
       "In Recovery             4\n",
       "Name: conservation_status, dtype: int64"
      ]
     },
     "execution_count": 35,
     "metadata": {},
     "output_type": "execute_result"
    }
   ],
   "source": [
    "print (f\" Liczba wartości Na : {species['conservation_status'].isna().sum()}\")\n",
    "species['conservation_status'].value_counts()"
   ]
  },
  {
   "cell_type": "code",
   "execution_count": null,
   "metadata": {},
   "outputs": [],
   "source": []
  }
 ],
 "metadata": {
  "kernelspec": {
   "display_name": "Python 3 (ipykernel)",
   "language": "python",
   "name": "python3"
  },
  "language_info": {
   "codemirror_mode": {
    "name": "ipython",
    "version": 3
   },
   "file_extension": ".py",
   "mimetype": "text/x-python",
   "name": "python",
   "nbconvert_exporter": "python",
   "pygments_lexer": "ipython3",
   "version": "3.9.13"
  }
 },
 "nbformat": 4,
 "nbformat_minor": 4
}
